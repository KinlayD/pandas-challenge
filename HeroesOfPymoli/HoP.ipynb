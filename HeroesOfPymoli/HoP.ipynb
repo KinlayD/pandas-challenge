{
 "cells": [
  {
   "cell_type": "code",
   "execution_count": 605,
   "metadata": {},
   "outputs": [],
   "source": [
    "# dependencies\n",
    "import pandas as pd\n",
    "import numpy as np\n"
   ]
  },
  {
   "cell_type": "code",
   "execution_count": 606,
   "metadata": {},
   "outputs": [],
   "source": [
    "# # store filepath \n",
    "input_file = \"Resources/purchase_data.csv\"\n",
    "\n",
    "# read CSV into Pandas DataFrame\n",
    "pd_raw_df = pd.read_csv(input_file)\n"
   ]
  },
  {
   "cell_type": "code",
   "execution_count": 607,
   "metadata": {},
   "outputs": [
    {
     "data": {
      "text/html": [
       "<div>\n",
       "<style scoped>\n",
       "    .dataframe tbody tr th:only-of-type {\n",
       "        vertical-align: middle;\n",
       "    }\n",
       "\n",
       "    .dataframe tbody tr th {\n",
       "        vertical-align: top;\n",
       "    }\n",
       "\n",
       "    .dataframe thead th {\n",
       "        text-align: right;\n",
       "    }\n",
       "</style>\n",
       "<table border=\"1\" class=\"dataframe\">\n",
       "  <thead>\n",
       "    <tr style=\"text-align: right;\">\n",
       "      <th></th>\n",
       "      <th>Total Players</th>\n",
       "    </tr>\n",
       "  </thead>\n",
       "  <tbody>\n",
       "    <tr>\n",
       "      <th>0</th>\n",
       "      <td>576</td>\n",
       "    </tr>\n",
       "  </tbody>\n",
       "</table>\n",
       "</div>"
      ],
      "text/plain": [
       "   Total Players\n",
       "0            576"
      ]
     },
     "execution_count": 607,
     "metadata": {},
     "output_type": "execute_result"
    }
   ],
   "source": [
    "# Player Count\n",
    "unique_players = pd_raw_df[\"SN\"].unique()\n",
    "players_series = pd.Series(unique_players)\n",
    "\n",
    "players_df = pd.DataFrame({\"SN\": players_series})\n",
    "players = players_df.count()\n",
    "total_players_df = pd.DataFrame({\"Total Players\": players})\n",
    "total_players_df = total_players_df.reset_index(drop=True)\n",
    "total_players_df"
   ]
  },
  {
   "cell_type": "code",
   "execution_count": 608,
   "metadata": {},
   "outputs": [
    {
     "data": {
      "text/html": [
       "<div>\n",
       "<style scoped>\n",
       "    .dataframe tbody tr th:only-of-type {\n",
       "        vertical-align: middle;\n",
       "    }\n",
       "\n",
       "    .dataframe tbody tr th {\n",
       "        vertical-align: top;\n",
       "    }\n",
       "\n",
       "    .dataframe thead th {\n",
       "        text-align: right;\n",
       "    }\n",
       "</style>\n",
       "<table border=\"1\" class=\"dataframe\">\n",
       "  <thead>\n",
       "    <tr style=\"text-align: right;\">\n",
       "      <th></th>\n",
       "      <th>Number of Unique Items</th>\n",
       "    </tr>\n",
       "  </thead>\n",
       "  <tbody>\n",
       "    <tr>\n",
       "      <th>0</th>\n",
       "      <td>179</td>\n",
       "    </tr>\n",
       "  </tbody>\n",
       "</table>\n",
       "</div>"
      ],
      "text/plain": [
       "   Number of Unique Items\n",
       "0                     179"
      ]
     },
     "execution_count": 608,
     "metadata": {},
     "output_type": "execute_result"
    }
   ],
   "source": [
    "## Purchasing Analysis\n",
    "\n",
    "# number of unique items\n",
    "unique_items = pd_raw_df[\"Item Name\"].unique()\n",
    "items_series = pd.Series(unique_items)\n",
    "\n",
    "\n",
    "items_df = pd.DataFrame({\"Item Name\": items_series})\n",
    "items = items_df.count()\n",
    "total_items_df = pd.DataFrame({\"Number of Unique Items\": items})\n",
    "total_items_df = total_items_df.reset_index(drop=True)\n",
    "total_items_df\n",
    "\n"
   ]
  },
  {
   "cell_type": "code",
   "execution_count": 609,
   "metadata": {},
   "outputs": [
    {
     "data": {
      "text/html": [
       "<div>\n",
       "<style scoped>\n",
       "    .dataframe tbody tr th:only-of-type {\n",
       "        vertical-align: middle;\n",
       "    }\n",
       "\n",
       "    .dataframe tbody tr th {\n",
       "        vertical-align: top;\n",
       "    }\n",
       "\n",
       "    .dataframe thead th {\n",
       "        text-align: right;\n",
       "    }\n",
       "</style>\n",
       "<table border=\"1\" class=\"dataframe\">\n",
       "  <thead>\n",
       "    <tr style=\"text-align: right;\">\n",
       "      <th></th>\n",
       "      <th>Average Price</th>\n",
       "    </tr>\n",
       "  </thead>\n",
       "  <tbody>\n",
       "    <tr>\n",
       "      <th>0</th>\n",
       "      <td>3.04</td>\n",
       "    </tr>\n",
       "  </tbody>\n",
       "</table>\n",
       "</div>"
      ],
      "text/plain": [
       "   Average Price\n",
       "0           3.04"
      ]
     },
     "execution_count": 609,
     "metadata": {},
     "output_type": "execute_result"
    }
   ],
   "source": [
    "# average price\n",
    "items_df_grouped = pd_raw_df.groupby(\"Item Name\")\n",
    "price = items_df_grouped[\"Price\"].mean()\n",
    "price = price.reset_index(drop=True)\n",
    "ave_price = (round(price.sum()/items, 2))\n",
    "ave_price_series = pd.Series(ave_price)\n",
    "ave_price_df = pd.DataFrame({\"Average Price\": ave_price_series})\n",
    "ave_price_df = ave_price_df.reset_index(drop=True)\n",
    "ave_price_df"
   ]
  },
  {
   "cell_type": "code",
   "execution_count": 610,
   "metadata": {},
   "outputs": [
    {
     "data": {
      "text/html": [
       "<div>\n",
       "<style scoped>\n",
       "    .dataframe tbody tr th:only-of-type {\n",
       "        vertical-align: middle;\n",
       "    }\n",
       "\n",
       "    .dataframe tbody tr th {\n",
       "        vertical-align: top;\n",
       "    }\n",
       "\n",
       "    .dataframe thead th {\n",
       "        text-align: right;\n",
       "    }\n",
       "</style>\n",
       "<table border=\"1\" class=\"dataframe\">\n",
       "  <thead>\n",
       "    <tr style=\"text-align: right;\">\n",
       "      <th></th>\n",
       "      <th>Number of Purchases</th>\n",
       "    </tr>\n",
       "  </thead>\n",
       "  <tbody>\n",
       "    <tr>\n",
       "      <th>0</th>\n",
       "      <td>780</td>\n",
       "    </tr>\n",
       "  </tbody>\n",
       "</table>\n",
       "</div>"
      ],
      "text/plain": [
       "   Number of Purchases\n",
       "0                  780"
      ]
     },
     "execution_count": 610,
     "metadata": {},
     "output_type": "execute_result"
    }
   ],
   "source": [
    "# number of purchases\n",
    "unique_items = pd_raw_df[\"Item Name\"].count()\n",
    "items_series = pd.Series(unique_items)\n",
    "\n",
    "items_df = pd.DataFrame({\"Number of Purchases\": items_series})\n",
    "items_df\n"
   ]
  },
  {
   "cell_type": "code",
   "execution_count": 611,
   "metadata": {},
   "outputs": [
    {
     "data": {
      "text/html": [
       "<div>\n",
       "<style scoped>\n",
       "    .dataframe tbody tr th:only-of-type {\n",
       "        vertical-align: middle;\n",
       "    }\n",
       "\n",
       "    .dataframe tbody tr th {\n",
       "        vertical-align: top;\n",
       "    }\n",
       "\n",
       "    .dataframe thead th {\n",
       "        text-align: right;\n",
       "    }\n",
       "</style>\n",
       "<table border=\"1\" class=\"dataframe\">\n",
       "  <thead>\n",
       "    <tr style=\"text-align: right;\">\n",
       "      <th></th>\n",
       "      <th>Total Revenue</th>\n",
       "    </tr>\n",
       "  </thead>\n",
       "  <tbody>\n",
       "    <tr>\n",
       "      <th>0</th>\n",
       "      <td>2379.77</td>\n",
       "    </tr>\n",
       "  </tbody>\n",
       "</table>\n",
       "</div>"
      ],
      "text/plain": [
       "   Total Revenue\n",
       "0        2379.77"
      ]
     },
     "execution_count": 611,
     "metadata": {},
     "output_type": "execute_result"
    }
   ],
   "source": [
    "# total revenue\n",
    "total_revenue = pd_raw_df[\"Price\"].sum()\n",
    "total_revenue_series = pd.Series(total_revenue)\n",
    "\n",
    "total_revenue_df = pd.DataFrame({\"Total Revenue\": total_revenue_series})\n",
    "total_revenue_df"
   ]
  },
  {
   "cell_type": "code",
   "execution_count": 612,
   "metadata": {},
   "outputs": [
    {
     "data": {
      "text/html": [
       "<div>\n",
       "<style scoped>\n",
       "    .dataframe tbody tr th:only-of-type {\n",
       "        vertical-align: middle;\n",
       "    }\n",
       "\n",
       "    .dataframe tbody tr th {\n",
       "        vertical-align: top;\n",
       "    }\n",
       "\n",
       "    .dataframe thead th {\n",
       "        text-align: right;\n",
       "    }\n",
       "</style>\n",
       "<table border=\"1\" class=\"dataframe\">\n",
       "  <thead>\n",
       "    <tr style=\"text-align: right;\">\n",
       "      <th></th>\n",
       "      <th>Number of Unique Items</th>\n",
       "      <th>Average Price</th>\n",
       "      <th>Number of Purchases</th>\n",
       "      <th>Total Revenue</th>\n",
       "    </tr>\n",
       "  </thead>\n",
       "  <tbody>\n",
       "    <tr>\n",
       "      <th>0</th>\n",
       "      <td>179</td>\n",
       "      <td>3.04</td>\n",
       "      <td>780</td>\n",
       "      <td>2379.77</td>\n",
       "    </tr>\n",
       "  </tbody>\n",
       "</table>\n",
       "</div>"
      ],
      "text/plain": [
       "   Number of Unique Items  Average Price  Number of Purchases  Total Revenue\n",
       "0                     179           3.04                  780        2379.77"
      ]
     },
     "execution_count": 612,
     "metadata": {},
     "output_type": "execute_result"
    }
   ],
   "source": [
    "# purchasing analysis summary\n",
    "purchasing_analysis_list = [total_items_df, ave_price_df, items_df, total_revenue_df]\n",
    "purchasing_analysis_df = pd.concat(purchasing_analysis_list, join='outer', axis=1)\n",
    "purchasing_analysis_df"
   ]
  },
  {
   "cell_type": "code",
   "execution_count": 613,
   "metadata": {},
   "outputs": [
    {
     "data": {
      "text/plain": [
       "0    484\n",
       "dtype: int64"
      ]
     },
     "execution_count": 613,
     "metadata": {},
     "output_type": "execute_result"
    }
   ],
   "source": [
    "## Gender Demographics\n",
    "\n",
    "# number of males\n",
    "filter_m_df = pd_raw_df.loc[pd_raw_df[\"Gender\"] == \"Male\", :]\n",
    "filter_m_df = filter_m_df.groupby([\"SN\"])\n",
    "male_vc = filter_m_df[\"Gender\"].value_counts()\n",
    "male_series = pd.Series(male_vc)\n",
    "male_count = male_series.count()\n",
    "male_series = pd.Series(male_count)\n",
    "male_series"
   ]
  },
  {
   "cell_type": "code",
   "execution_count": 614,
   "metadata": {},
   "outputs": [],
   "source": [
    "# number of females\n",
    "filter_f_df = pd_raw_df.loc[pd_raw_df[\"Gender\"] == \"Female\", :]\n",
    "filter_f_df = filter_f_df.groupby([\"SN\"])\n",
    "f_vc = filter_f_df[\"Gender\"].value_counts()\n",
    "f_series = pd.Series(f_vc)\n",
    "f_count = f_series.count()"
   ]
  },
  {
   "cell_type": "code",
   "execution_count": 615,
   "metadata": {},
   "outputs": [
    {
     "data": {
      "text/plain": [
       "0    11\n",
       "dtype: int64"
      ]
     },
     "execution_count": 615,
     "metadata": {},
     "output_type": "execute_result"
    }
   ],
   "source": [
    "# number of other/non-disclosed\n",
    "filter_o_df = pd_raw_df.loc[pd_raw_df[\"Gender\"] == \"Other / Non-Disclosed\", :]\n",
    "filter_o_df = filter_o_df.groupby([\"SN\"])\n",
    "o_vc = filter_o_df[\"Gender\"].value_counts()\n",
    "o_series = pd.Series(o_vc)\n",
    "o_count = o_series.count()\n",
    "o_series = pd.Series(o_count)\n",
    "o_series"
   ]
  },
  {
   "cell_type": "code",
   "execution_count": 616,
   "metadata": {},
   "outputs": [
    {
     "name": "stdout",
     "output_type": "stream",
     "text": [
      "576\n",
      "84.03\n",
      "14.06\n",
      "1.91\n"
     ]
    }
   ],
   "source": [
    "# Percentage of players\n",
    "total_players = male_count + f_count + o_count\n",
    "print(total_players)\n",
    "\n",
    "p_male = round(male_count / total_players * 100, 2)\n",
    "print(p_male)\n",
    "\n",
    "p_female = round(f_count / total_players * 100, 2)\n",
    "print(p_female)\n",
    "\n",
    "p_other = round(o_count / total_players * 100, 2)\n",
    "print(p_other)"
   ]
  },
  {
   "cell_type": "code",
   "execution_count": 617,
   "metadata": {},
   "outputs": [
    {
     "data": {
      "text/html": [
       "<div>\n",
       "<style scoped>\n",
       "    .dataframe tbody tr th:only-of-type {\n",
       "        vertical-align: middle;\n",
       "    }\n",
       "\n",
       "    .dataframe tbody tr th {\n",
       "        vertical-align: top;\n",
       "    }\n",
       "\n",
       "    .dataframe thead th {\n",
       "        text-align: right;\n",
       "    }\n",
       "</style>\n",
       "<table border=\"1\" class=\"dataframe\">\n",
       "  <thead>\n",
       "    <tr style=\"text-align: right;\">\n",
       "      <th></th>\n",
       "      <th>Total Count</th>\n",
       "      <th>Percentage of Players</th>\n",
       "    </tr>\n",
       "  </thead>\n",
       "  <tbody>\n",
       "    <tr>\n",
       "      <th>Male</th>\n",
       "      <td>484</td>\n",
       "      <td>84.03</td>\n",
       "    </tr>\n",
       "    <tr>\n",
       "      <th>Female</th>\n",
       "      <td>81</td>\n",
       "      <td>14.06</td>\n",
       "    </tr>\n",
       "    <tr>\n",
       "      <th>Other / Non-Disclosed</th>\n",
       "      <td>11</td>\n",
       "      <td>1.91</td>\n",
       "    </tr>\n",
       "  </tbody>\n",
       "</table>\n",
       "</div>"
      ],
      "text/plain": [
       "                       Total Count  Percentage of Players\n",
       "Male                           484                  84.03\n",
       "Female                          81                  14.06\n",
       "Other / Non-Disclosed           11                   1.91"
      ]
     },
     "execution_count": 617,
     "metadata": {},
     "output_type": "execute_result"
    }
   ],
   "source": [
    "# gender demographics summary\n",
    "\n",
    "gender_index_series = pd.Series([\"Male\", \"Female\", \"Other / Non-Disclosed\"])\n",
    "total_count_series = pd.Series([male_count, f_count, o_count])\n",
    "percentage_series = pd.Series([p_male, p_female, p_other])\n",
    "\n",
    "gds_dict = {}\n",
    "gds_dict[\"Total Count\"] = []\n",
    "gds_dict[\"Percentage of Players\"] = []\n",
    "\n",
    "for x in total_count_series:\n",
    "    if \"Total Count\" in gds_dict:\n",
    "        gds_dict[\"Total Count\"].append(x)\n",
    "for x in percentage_series:\n",
    "    if \"Percentage of Players\" in gds_dict:\n",
    "        gds_dict[\"Percentage of Players\"].append(x)\n",
    "\n",
    "gds_df = pd.DataFrame(gds_dict, index=gender_index_series)\n",
    "gds_df\n"
   ]
  },
  {
   "cell_type": "code",
   "execution_count": 618,
   "metadata": {},
   "outputs": [
    {
     "name": "stdout",
     "output_type": "stream",
     "text": [
      "113\n",
      "652\n",
      "15\n"
     ]
    }
   ],
   "source": [
    "## purchasing analysis (gender)\n",
    "\n",
    "## purchase count\n",
    "\n",
    "# purchase count (female)\n",
    "f_item_count = filter_f_df[\"Item Name\"].value_counts()\n",
    "f_pc_count =len(f_item_count.index)\n",
    "print(f_pc_count)\n",
    "\n",
    "# purchase count (male)\n",
    "m_item_count = filter_m_df[\"Item Name\"].value_counts()\n",
    "m_pc_count = len(m_item_count.index)\n",
    "print(m_pc_count)\n",
    "\n",
    "# purchase count (other)\n",
    "o_item_count = filter_o_df[\"Item Name\"].value_counts()\n",
    "o_pc_count = len(o_item_count.index)\n",
    "print(o_pc_count)\n"
   ]
  },
  {
   "cell_type": "code",
   "execution_count": 619,
   "metadata": {},
   "outputs": [
    {
     "name": "stdout",
     "output_type": "stream",
     "text": [
      "361.94\n",
      "1967.64\n",
      "50.19\n"
     ]
    }
   ],
   "source": [
    "## total purchase value\n",
    "\n",
    "# total purchase value (female)\n",
    "f_sum_tp = filter_f_df[\"Price\"].sum()\n",
    "f_sum_tp = float(f_sum_tp.sum())\n",
    "print(f_sum_tp)\n",
    "\n",
    "# total purchase value (male)\n",
    "m_sum_tp = filter_m_df[\"Price\"].sum()\n",
    "m_sum_tp = float(m_sum_tp.sum())\n",
    "print(m_sum_tp)\n",
    "\n",
    "# total purchase value (other)\n",
    "o_sum_tp = filter_o_df[\"Price\"].sum()\n",
    "o_sum_tp = float(o_sum_tp.sum())\n",
    "print(o_sum_tp)\n"
   ]
  },
  {
   "cell_type": "code",
   "execution_count": 620,
   "metadata": {},
   "outputs": [
    {
     "name": "stdout",
     "output_type": "stream",
     "text": [
      "3.2\n",
      "3.02\n",
      "3.35\n"
     ]
    }
   ],
   "source": [
    "## average purchase price\n",
    "\n",
    "# average purchase price (female)\n",
    "f_ave = round(f_sum_tp / f_pc_count, 2)\n",
    "print(f_ave)\n",
    "\n",
    "# average purchase price (male)\n",
    "m_ave = round(m_sum_tp / m_pc_count, 2)\n",
    "print(m_ave)\n",
    "\n",
    "# average purchase price (other)\n",
    "o_ave = round(o_sum_tp / o_pc_count, 2)\n",
    "print(o_ave)"
   ]
  },
  {
   "cell_type": "code",
   "execution_count": 621,
   "metadata": {},
   "outputs": [
    {
     "name": "stdout",
     "output_type": "stream",
     "text": [
      "4.47\n",
      "4.07\n",
      "4.56\n"
     ]
    }
   ],
   "source": [
    "## average total price per person\n",
    "\n",
    "# avg total purchase per person (female)\n",
    "f_ave_tp = round(f_sum_tp / f_count, 2)\n",
    "print(f_ave_tp)\n",
    "\n",
    "# avg total purchase per person (male)\n",
    "m_ave_tp = round(m_sum_tp / male_count, 2)\n",
    "print(m_ave_tp)\n",
    "\n",
    "# avg total purchase per person (other)\n",
    "o_ave_tp = round(o_sum_tp / o_count, 2)\n",
    "print(o_ave_tp)\n"
   ]
  },
  {
   "cell_type": "code",
   "execution_count": 622,
   "metadata": {},
   "outputs": [
    {
     "data": {
      "text/html": [
       "<div>\n",
       "<style scoped>\n",
       "    .dataframe tbody tr th:only-of-type {\n",
       "        vertical-align: middle;\n",
       "    }\n",
       "\n",
       "    .dataframe tbody tr th {\n",
       "        vertical-align: top;\n",
       "    }\n",
       "\n",
       "    .dataframe thead th {\n",
       "        text-align: right;\n",
       "    }\n",
       "</style>\n",
       "<table border=\"1\" class=\"dataframe\">\n",
       "  <thead>\n",
       "    <tr style=\"text-align: right;\">\n",
       "      <th></th>\n",
       "      <th>Purchase Count</th>\n",
       "      <th>Total Purchase Value</th>\n",
       "      <th>Average Purchase Price</th>\n",
       "      <th>Avg Total Purchase per Person</th>\n",
       "    </tr>\n",
       "  </thead>\n",
       "  <tbody>\n",
       "    <tr>\n",
       "      <th>Female</th>\n",
       "      <td>113</td>\n",
       "      <td>361.94</td>\n",
       "      <td>3.20</td>\n",
       "      <td>4.47</td>\n",
       "    </tr>\n",
       "    <tr>\n",
       "      <th>Male</th>\n",
       "      <td>652</td>\n",
       "      <td>1967.64</td>\n",
       "      <td>3.02</td>\n",
       "      <td>4.07</td>\n",
       "    </tr>\n",
       "    <tr>\n",
       "      <th>Other / Non-Disclosed</th>\n",
       "      <td>11</td>\n",
       "      <td>50.19</td>\n",
       "      <td>3.35</td>\n",
       "      <td>4.56</td>\n",
       "    </tr>\n",
       "  </tbody>\n",
       "</table>\n",
       "</div>"
      ],
      "text/plain": [
       "                       Purchase Count  Total Purchase Value  \\\n",
       "Female                            113                361.94   \n",
       "Male                              652               1967.64   \n",
       "Other / Non-Disclosed              11                 50.19   \n",
       "\n",
       "                       Average Purchase Price  Avg Total Purchase per Person  \n",
       "Female                                   3.20                           4.47  \n",
       "Male                                     3.02                           4.07  \n",
       "Other / Non-Disclosed                    3.35                           4.56  "
      ]
     },
     "execution_count": 622,
     "metadata": {},
     "output_type": "execute_result"
    }
   ],
   "source": [
    "## purchasing analysis summary (gender)\n",
    "\n",
    "gender_index_series = pd.Series([\"Female\", \"Male\", \"Other / Non-Disclosed\"])\n",
    "purchase_count_series = pd.Series([f_pc_count, m_pc_count, o_count])\n",
    "total_purchase_value_series = pd.Series([f_sum_tp, m_sum_tp, o_sum_tp])\n",
    "average_purchase_price_series = pd.Series([f_ave, m_ave, o_ave])\n",
    "av_price_pp_series = pd.Series([f_ave_tp, m_ave_tp, o_ave_tp])\n",
    "\n",
    "pag_dict = {}\n",
    "pag_dict[\"Purchase Count\"] = []\n",
    "pag_dict[\"Total Purchase Value\"] = []\n",
    "pag_dict[\"Average Purchase Price\"] = []\n",
    "pag_dict[\"Avg Total Purchase per Person\"] = []\n",
    "\n",
    "for x in purchase_count_series:\n",
    "    if \"Purchase Count\" in pag_dict:\n",
    "        pag_dict[\"Purchase Count\"].append(x)\n",
    "for x in total_purchase_value_series:\n",
    "    if \"Total Purchase Value\" in pag_dict:\n",
    "        pag_dict[\"Total Purchase Value\"].append(x)\n",
    "for x in average_purchase_price_series:\n",
    "    if \"Average Purchase Price\" in pag_dict:\n",
    "        pag_dict[\"Average Purchase Price\"].append(x)\n",
    "for x in av_price_pp_series:\n",
    "    if \"Avg Total Purchase per Person\" in pag_dict:\n",
    "        pag_dict[\"Avg Total Purchase per Person\"].append(x)\n",
    "\n",
    "purchasing_analysis_gender_df = pd.DataFrame(pag_dict, index=gender_index_series)\n",
    "purchasing_analysis_gender_df"
   ]
  },
  {
   "cell_type": "code",
   "execution_count": 623,
   "metadata": {},
   "outputs": [
    {
     "data": {
      "text/html": [
       "<div>\n",
       "<style scoped>\n",
       "    .dataframe tbody tr th:only-of-type {\n",
       "        vertical-align: middle;\n",
       "    }\n",
       "\n",
       "    .dataframe tbody tr th {\n",
       "        vertical-align: top;\n",
       "    }\n",
       "\n",
       "    .dataframe thead th {\n",
       "        text-align: right;\n",
       "    }\n",
       "</style>\n",
       "<table border=\"1\" class=\"dataframe\">\n",
       "  <thead>\n",
       "    <tr style=\"text-align: right;\">\n",
       "      <th></th>\n",
       "      <th>SN</th>\n",
       "      <th>Age</th>\n",
       "    </tr>\n",
       "  </thead>\n",
       "  <tbody>\n",
       "    <tr>\n",
       "      <th>0</th>\n",
       "      <td>Lisim78</td>\n",
       "      <td>20</td>\n",
       "    </tr>\n",
       "    <tr>\n",
       "      <th>1</th>\n",
       "      <td>Lisovynya38</td>\n",
       "      <td>40</td>\n",
       "    </tr>\n",
       "    <tr>\n",
       "      <th>2</th>\n",
       "      <td>Ithergue48</td>\n",
       "      <td>24</td>\n",
       "    </tr>\n",
       "    <tr>\n",
       "      <th>3</th>\n",
       "      <td>Chamassasya86</td>\n",
       "      <td>24</td>\n",
       "    </tr>\n",
       "    <tr>\n",
       "      <th>4</th>\n",
       "      <td>Iskosia90</td>\n",
       "      <td>23</td>\n",
       "    </tr>\n",
       "    <tr>\n",
       "      <th>...</th>\n",
       "      <td>...</td>\n",
       "      <td>...</td>\n",
       "    </tr>\n",
       "    <tr>\n",
       "      <th>773</th>\n",
       "      <td>Hala31</td>\n",
       "      <td>21</td>\n",
       "    </tr>\n",
       "    <tr>\n",
       "      <th>774</th>\n",
       "      <td>Jiskjask80</td>\n",
       "      <td>11</td>\n",
       "    </tr>\n",
       "    <tr>\n",
       "      <th>775</th>\n",
       "      <td>Aethedru70</td>\n",
       "      <td>21</td>\n",
       "    </tr>\n",
       "    <tr>\n",
       "      <th>777</th>\n",
       "      <td>Yathecal72</td>\n",
       "      <td>20</td>\n",
       "    </tr>\n",
       "    <tr>\n",
       "      <th>778</th>\n",
       "      <td>Sisur91</td>\n",
       "      <td>7</td>\n",
       "    </tr>\n",
       "  </tbody>\n",
       "</table>\n",
       "<p>576 rows × 2 columns</p>\n",
       "</div>"
      ],
      "text/plain": [
       "                SN  Age\n",
       "0          Lisim78   20\n",
       "1      Lisovynya38   40\n",
       "2       Ithergue48   24\n",
       "3    Chamassasya86   24\n",
       "4        Iskosia90   23\n",
       "..             ...  ...\n",
       "773         Hala31   21\n",
       "774     Jiskjask80   11\n",
       "775     Aethedru70   21\n",
       "777     Yathecal72   20\n",
       "778        Sisur91    7\n",
       "\n",
       "[576 rows x 2 columns]"
      ]
     },
     "execution_count": 623,
     "metadata": {},
     "output_type": "execute_result"
    }
   ],
   "source": [
    "## age demographics\n",
    "\n",
    "# df: filter by unique players by age\n",
    "filter_a_sn_df = pd_raw_df.loc[:, [\"SN\", \"Age\"]]\n",
    "a = filter_a_sn_df.drop_duplicates()\n",
    "filter_age_sn_df = a.copy()\n",
    "\n",
    "filter_age_sn_df\n",
    "\n"
   ]
  },
  {
   "cell_type": "code",
   "execution_count": 624,
   "metadata": {},
   "outputs": [
    {
     "name": "stdout",
     "output_type": "stream",
     "text": [
      "                SN  Age Age Ranges\n",
      "0          Lisim78   20      20-24\n",
      "1      Lisovynya38   40        40+\n",
      "2       Ithergue48   24      20-24\n",
      "3    Chamassasya86   24      20-24\n",
      "4        Iskosia90   23      20-24\n",
      "..             ...  ...        ...\n",
      "773         Hala31   21      20-24\n",
      "774     Jiskjask80   11      10-14\n",
      "775     Aethedru70   21      20-24\n",
      "777     Yathecal72   20      20-24\n",
      "778        Sisur91    7        <10\n",
      "\n",
      "[576 rows x 3 columns]\n",
      "{'Total Count': [17, 22, 107, 258, 77, 52, 31, 12]}\n"
     ]
    }
   ],
   "source": [
    "# create bins for age\n",
    "\n",
    "bins = [0, 9, 14, 19, 24, 29, 34, 39, 50]\n",
    "\n",
    "bin_labels = [\"<10\", \"10-14\", \"15-19\", \"20-24\", \"25-29\", \"30-34\", \"35-39\", \"40+\"]\n",
    "filter_age_sn_df[\"Age Ranges\"] = pd.cut(filter_age_sn_df[\"Age\"], bins, labels=bin_labels)\n",
    "\n",
    "print(filter_age_sn_df)\n",
    "\n",
    "age_group = filter_age_sn_df.groupby(\"Age Ranges\")\n",
    "age_demographics_series = age_group[\"Age\"].count()\n",
    "age_demographics_series\n",
    "\n",
    "# create dictionary to hold total counts by age\n",
    "age_dict = {}\n",
    "age_dict[\"Total Count\"] = []\n",
    "\n",
    "for x in age_demographics_series:\n",
    "    if \"Total Count\" in age_dict:\n",
    "        age_dict[\"Total Count\"].append(x)\n",
    "\n",
    "print(age_dict)\n"
   ]
  },
  {
   "cell_type": "code",
   "execution_count": 625,
   "metadata": {},
   "outputs": [
    {
     "data": {
      "text/html": [
       "<div>\n",
       "<style scoped>\n",
       "    .dataframe tbody tr th:only-of-type {\n",
       "        vertical-align: middle;\n",
       "    }\n",
       "\n",
       "    .dataframe tbody tr th {\n",
       "        vertical-align: top;\n",
       "    }\n",
       "\n",
       "    .dataframe thead th {\n",
       "        text-align: right;\n",
       "    }\n",
       "</style>\n",
       "<table border=\"1\" class=\"dataframe\">\n",
       "  <thead>\n",
       "    <tr style=\"text-align: right;\">\n",
       "      <th></th>\n",
       "      <th>Total Count</th>\n",
       "      <th>Percentage of Players</th>\n",
       "    </tr>\n",
       "  </thead>\n",
       "  <tbody>\n",
       "    <tr>\n",
       "      <th>&lt;10</th>\n",
       "      <td>17</td>\n",
       "      <td>2.95</td>\n",
       "    </tr>\n",
       "    <tr>\n",
       "      <th>10-14</th>\n",
       "      <td>22</td>\n",
       "      <td>3.82</td>\n",
       "    </tr>\n",
       "    <tr>\n",
       "      <th>15-19</th>\n",
       "      <td>107</td>\n",
       "      <td>18.58</td>\n",
       "    </tr>\n",
       "    <tr>\n",
       "      <th>20-24</th>\n",
       "      <td>258</td>\n",
       "      <td>44.79</td>\n",
       "    </tr>\n",
       "    <tr>\n",
       "      <th>25-29</th>\n",
       "      <td>77</td>\n",
       "      <td>13.37</td>\n",
       "    </tr>\n",
       "    <tr>\n",
       "      <th>30-34</th>\n",
       "      <td>52</td>\n",
       "      <td>9.03</td>\n",
       "    </tr>\n",
       "    <tr>\n",
       "      <th>35-39</th>\n",
       "      <td>31</td>\n",
       "      <td>5.38</td>\n",
       "    </tr>\n",
       "    <tr>\n",
       "      <th>40+</th>\n",
       "      <td>12</td>\n",
       "      <td>2.08</td>\n",
       "    </tr>\n",
       "  </tbody>\n",
       "</table>\n",
       "</div>"
      ],
      "text/plain": [
       "       Total Count  Percentage of Players\n",
       "<10             17                   2.95\n",
       "10-14           22                   3.82\n",
       "15-19          107                  18.58\n",
       "20-24          258                  44.79\n",
       "25-29           77                  13.37\n",
       "30-34           52                   9.03\n",
       "35-39           31                   5.38\n",
       "40+             12                   2.08"
      ]
     },
     "execution_count": 625,
     "metadata": {},
     "output_type": "execute_result"
    }
   ],
   "source": [
    "# create dataframe for age demographics\n",
    "age_demographics_df = pd.DataFrame(age_dict, index=bin_labels)\n",
    "\n",
    "# add column for percentage of players by age\n",
    "percentage_by_age_series = round(age_demographics_df[\"Total Count\"] / total_players * 100, 2)\n",
    "age_demographics_df[\"Percentage of Players\"] = percentage_by_age_series\n",
    "\n",
    "age_demographics_df"
   ]
  },
  {
   "cell_type": "code",
   "execution_count": 626,
   "metadata": {},
   "outputs": [],
   "source": [
    "## Purchasing Analysis (age)\n",
    "\n",
    "# filter by unique players age and price\n",
    "filter_pa_df = pd_raw_df.loc[:, [\"SN\", \"Age\", \"Price\"]]\n",
    "filter_age_sn_price_df = filter_pa_df.copy()\n",
    "\n",
    "filter_age_sn_price_df\n",
    "\n",
    "filter_age_sn_price_df[\"Age Ranges\"] = pd.cut(filter_age_sn_price_df[\"Age\"], bins, labels=bin_labels)\n",
    "age_range_price_group = filter_age_sn_price_df.groupby(\"Age Ranges\")"
   ]
  },
  {
   "cell_type": "code",
   "execution_count": 627,
   "metadata": {},
   "outputs": [
    {
     "data": {
      "text/plain": [
       "Age Ranges\n",
       "<10       23\n",
       "10-14     28\n",
       "15-19    136\n",
       "20-24    365\n",
       "25-29    101\n",
       "30-34     73\n",
       "35-39     41\n",
       "40+       13\n",
       "Name: Price, dtype: int64"
      ]
     },
     "execution_count": 627,
     "metadata": {},
     "output_type": "execute_result"
    }
   ],
   "source": [
    "# purchase count\n",
    "age_range_price_count_series = age_range_price_group[\"Price\"].count()\n",
    "\n",
    "age_range_price_count_series"
   ]
  },
  {
   "cell_type": "code",
   "execution_count": 628,
   "metadata": {},
   "outputs": [
    {
     "data": {
      "text/plain": [
       "Age Ranges\n",
       "<10        77.13\n",
       "10-14      82.78\n",
       "15-19     412.89\n",
       "20-24    1114.06\n",
       "25-29     293.00\n",
       "30-34     214.00\n",
       "35-39     147.67\n",
       "40+        38.24\n",
       "Name: Price, dtype: float64"
      ]
     },
     "execution_count": 628,
     "metadata": {},
     "output_type": "execute_result"
    }
   ],
   "source": [
    "# total purchase value\n",
    "age_range_price_value_series = age_range_price_group[\"Price\"].sum()\n",
    "\n",
    "age_range_price_value_series"
   ]
  },
  {
   "cell_type": "code",
   "execution_count": 629,
   "metadata": {},
   "outputs": [
    {
     "data": {
      "text/plain": [
       "Age Ranges\n",
       "<10      3.35\n",
       "10-14    2.96\n",
       "15-19    3.04\n",
       "20-24    3.05\n",
       "25-29    2.90\n",
       "30-34    2.93\n",
       "35-39    3.60\n",
       "40+      2.94\n",
       "Name: Price, dtype: float64"
      ]
     },
     "execution_count": 629,
     "metadata": {},
     "output_type": "execute_result"
    }
   ],
   "source": [
    "# average purchase price\n",
    "age_range_price_avg_series = round(age_range_price_group[\"Price\"].mean(), 2)\n",
    "\n",
    "age_range_price_avg_series"
   ]
  },
  {
   "cell_type": "code",
   "execution_count": 630,
   "metadata": {},
   "outputs": [
    {
     "data": {
      "text/plain": [
       "Age Ranges\n",
       "<10      4.54\n",
       "10-14    3.76\n",
       "15-19    3.86\n",
       "20-24    4.32\n",
       "25-29    3.81\n",
       "30-34    4.12\n",
       "35-39    4.76\n",
       "40+      3.19\n",
       "dtype: float64"
      ]
     },
     "execution_count": 630,
     "metadata": {},
     "output_type": "execute_result"
    }
   ],
   "source": [
    "# avg total purchase per person\n",
    "age_range_price_avg_pp_series = round(age_range_price_value_series / age_demographics_series, 2) \n",
    "age_range_price_avg_pp_series"
   ]
  },
  {
   "cell_type": "code",
   "execution_count": 631,
   "metadata": {},
   "outputs": [
    {
     "data": {
      "text/html": [
       "<div>\n",
       "<style scoped>\n",
       "    .dataframe tbody tr th:only-of-type {\n",
       "        vertical-align: middle;\n",
       "    }\n",
       "\n",
       "    .dataframe tbody tr th {\n",
       "        vertical-align: top;\n",
       "    }\n",
       "\n",
       "    .dataframe thead th {\n",
       "        text-align: right;\n",
       "    }\n",
       "</style>\n",
       "<table border=\"1\" class=\"dataframe\">\n",
       "  <thead>\n",
       "    <tr style=\"text-align: right;\">\n",
       "      <th></th>\n",
       "      <th>Purchase Count</th>\n",
       "      <th>Total Purchase Value</th>\n",
       "      <th>Average Purchase Price</th>\n",
       "      <th>Avg Total Purchase per Person</th>\n",
       "    </tr>\n",
       "  </thead>\n",
       "  <tbody>\n",
       "    <tr>\n",
       "      <th>&lt;10</th>\n",
       "      <td>23</td>\n",
       "      <td>77.13</td>\n",
       "      <td>3.35</td>\n",
       "      <td>4.54</td>\n",
       "    </tr>\n",
       "    <tr>\n",
       "      <th>10-14</th>\n",
       "      <td>28</td>\n",
       "      <td>82.78</td>\n",
       "      <td>2.96</td>\n",
       "      <td>3.76</td>\n",
       "    </tr>\n",
       "    <tr>\n",
       "      <th>15-19</th>\n",
       "      <td>136</td>\n",
       "      <td>412.89</td>\n",
       "      <td>3.04</td>\n",
       "      <td>3.86</td>\n",
       "    </tr>\n",
       "    <tr>\n",
       "      <th>20-24</th>\n",
       "      <td>365</td>\n",
       "      <td>1114.06</td>\n",
       "      <td>3.05</td>\n",
       "      <td>4.32</td>\n",
       "    </tr>\n",
       "    <tr>\n",
       "      <th>25-29</th>\n",
       "      <td>101</td>\n",
       "      <td>293.00</td>\n",
       "      <td>2.90</td>\n",
       "      <td>3.81</td>\n",
       "    </tr>\n",
       "    <tr>\n",
       "      <th>30-34</th>\n",
       "      <td>73</td>\n",
       "      <td>214.00</td>\n",
       "      <td>2.93</td>\n",
       "      <td>4.12</td>\n",
       "    </tr>\n",
       "    <tr>\n",
       "      <th>35-39</th>\n",
       "      <td>41</td>\n",
       "      <td>147.67</td>\n",
       "      <td>3.60</td>\n",
       "      <td>4.76</td>\n",
       "    </tr>\n",
       "    <tr>\n",
       "      <th>40+</th>\n",
       "      <td>13</td>\n",
       "      <td>38.24</td>\n",
       "      <td>2.94</td>\n",
       "      <td>3.19</td>\n",
       "    </tr>\n",
       "  </tbody>\n",
       "</table>\n",
       "</div>"
      ],
      "text/plain": [
       "       Purchase Count  Total Purchase Value  Average Purchase Price  \\\n",
       "<10                23                 77.13                    3.35   \n",
       "10-14              28                 82.78                    2.96   \n",
       "15-19             136                412.89                    3.04   \n",
       "20-24             365               1114.06                    3.05   \n",
       "25-29             101                293.00                    2.90   \n",
       "30-34              73                214.00                    2.93   \n",
       "35-39              41                147.67                    3.60   \n",
       "40+                13                 38.24                    2.94   \n",
       "\n",
       "       Avg Total Purchase per Person  \n",
       "<10                             4.54  \n",
       "10-14                           3.76  \n",
       "15-19                           3.86  \n",
       "20-24                           4.32  \n",
       "25-29                           3.81  \n",
       "30-34                           4.12  \n",
       "35-39                           4.76  \n",
       "40+                             3.19  "
      ]
     },
     "execution_count": 631,
     "metadata": {},
     "output_type": "execute_result"
    }
   ],
   "source": [
    "pa_age_dict = {}\n",
    "pa_age_dict[\"Purchase Count\"] = []\n",
    "pa_age_dict[\"Total Purchase Value\"] = []\n",
    "pa_age_dict[\"Average Purchase Price\"] = []\n",
    "pa_age_dict[\"Avg Total Purchase per Person\"] = []\n",
    "\n",
    "for x in age_range_price_count_series:\n",
    "    if \"Purchase Count\" in pa_age_dict:\n",
    "        pa_age_dict[\"Purchase Count\"].append(x)\n",
    "for x in age_range_price_value_series:\n",
    "    if \"Total Purchase Value\" in pa_age_dict:\n",
    "        pa_age_dict[\"Total Purchase Value\"].append(x)\n",
    "for x in age_range_price_avg_series:\n",
    "    if \"Average Purchase Price\" in pa_age_dict:\n",
    "        pa_age_dict[\"Average Purchase Price\"].append(x)\n",
    "for x in age_range_price_avg_pp_series:\n",
    "    if \"Avg Total Purchase per Person\" in pa_age_dict:\n",
    "        pa_age_dict[\"Avg Total Purchase per Person\"].append(x)\n",
    "\n",
    "purchasing_analysis_age_df = pd.DataFrame(pa_age_dict, index=bin_labels)\n",
    "purchasing_analysis_age_df"
   ]
  },
  {
   "cell_type": "code",
   "execution_count": 632,
   "metadata": {},
   "outputs": [
    {
     "data": {
      "text/html": [
       "<div>\n",
       "<style scoped>\n",
       "    .dataframe tbody tr th:only-of-type {\n",
       "        vertical-align: middle;\n",
       "    }\n",
       "\n",
       "    .dataframe tbody tr th {\n",
       "        vertical-align: top;\n",
       "    }\n",
       "\n",
       "    .dataframe thead th {\n",
       "        text-align: right;\n",
       "    }\n",
       "</style>\n",
       "<table border=\"1\" class=\"dataframe\">\n",
       "  <thead>\n",
       "    <tr style=\"text-align: right;\">\n",
       "      <th></th>\n",
       "      <th>Purchase Count</th>\n",
       "      <th>Average Purchase Price</th>\n",
       "      <th>Total Purchase Value</th>\n",
       "    </tr>\n",
       "  </thead>\n",
       "  <tbody>\n",
       "    <tr>\n",
       "      <th>Lisosia93</th>\n",
       "      <td>5</td>\n",
       "      <td>3.79</td>\n",
       "      <td>18.96</td>\n",
       "    </tr>\n",
       "    <tr>\n",
       "      <th>Idastidru52</th>\n",
       "      <td>4</td>\n",
       "      <td>3.86</td>\n",
       "      <td>15.45</td>\n",
       "    </tr>\n",
       "    <tr>\n",
       "      <th>Chamjask73</th>\n",
       "      <td>3</td>\n",
       "      <td>4.61</td>\n",
       "      <td>13.83</td>\n",
       "    </tr>\n",
       "    <tr>\n",
       "      <th>Iral74</th>\n",
       "      <td>4</td>\n",
       "      <td>3.40</td>\n",
       "      <td>13.62</td>\n",
       "    </tr>\n",
       "    <tr>\n",
       "      <th>Iskadarya95</th>\n",
       "      <td>3</td>\n",
       "      <td>4.37</td>\n",
       "      <td>13.10</td>\n",
       "    </tr>\n",
       "  </tbody>\n",
       "</table>\n",
       "</div>"
      ],
      "text/plain": [
       "             Purchase Count  Average Purchase Price  Total Purchase Value\n",
       "Lisosia93                 5                    3.79                 18.96\n",
       "Idastidru52               4                    3.86                 15.45\n",
       "Chamjask73                3                    4.61                 13.83\n",
       "Iral74                    4                    3.40                 13.62\n",
       "Iskadarya95               3                    4.37                 13.10"
      ]
     },
     "execution_count": 632,
     "metadata": {},
     "output_type": "execute_result"
    }
   ],
   "source": [
    "## top spenders\n",
    "\n",
    "# purchase count\n",
    "purchase_counts = pd_raw_df[\"SN\"].value_counts()\n",
    "purchase_counts\n",
    "\n",
    "# total purchase value\n",
    "total_p = pd_raw_df.groupby([\"SN\"])\n",
    "tpc = total_p[\"Price\"].sum()\n",
    "tpc\n",
    "\n",
    "# average purchase price\n",
    "avg = round(tpc / purchase_counts, 2)\n",
    "avg\n",
    "\n",
    "spenders_summary_df = pd.DataFrame({\"Purchase Count\": purchase_counts, \"Average Purchase Price\": avg, \"Total Purchase Value\": tpc})\n",
    "s_df = spenders_summary_df.sort_values(\"Total Purchase Value\", ascending=False).head()\n",
    "s_df"
   ]
  },
  {
   "cell_type": "code",
   "execution_count": 633,
   "metadata": {},
   "outputs": [
    {
     "data": {
      "text/html": [
       "<div>\n",
       "<style scoped>\n",
       "    .dataframe tbody tr th:only-of-type {\n",
       "        vertical-align: middle;\n",
       "    }\n",
       "\n",
       "    .dataframe tbody tr th {\n",
       "        vertical-align: top;\n",
       "    }\n",
       "\n",
       "    .dataframe thead th {\n",
       "        text-align: right;\n",
       "    }\n",
       "</style>\n",
       "<table border=\"1\" class=\"dataframe\">\n",
       "  <thead>\n",
       "    <tr style=\"text-align: right;\">\n",
       "      <th></th>\n",
       "      <th>Purchase Count</th>\n",
       "      <th>Item Price</th>\n",
       "      <th>Total Purchase Value</th>\n",
       "    </tr>\n",
       "  </thead>\n",
       "  <tbody>\n",
       "    <tr>\n",
       "      <th>Abyssal Shard</th>\n",
       "      <td>5</td>\n",
       "      <td>5</td>\n",
       "      <td>13.35</td>\n",
       "    </tr>\n",
       "    <tr>\n",
       "      <th>Aetherius, Boon of the Blessed</th>\n",
       "      <td>5</td>\n",
       "      <td>5</td>\n",
       "      <td>16.95</td>\n",
       "    </tr>\n",
       "    <tr>\n",
       "      <th>Agatha</th>\n",
       "      <td>6</td>\n",
       "      <td>6</td>\n",
       "      <td>18.48</td>\n",
       "    </tr>\n",
       "    <tr>\n",
       "      <th>Alpha</th>\n",
       "      <td>3</td>\n",
       "      <td>3</td>\n",
       "      <td>6.21</td>\n",
       "    </tr>\n",
       "    <tr>\n",
       "      <th>Alpha, Oath of Zeal</th>\n",
       "      <td>3</td>\n",
       "      <td>3</td>\n",
       "      <td>12.15</td>\n",
       "    </tr>\n",
       "    <tr>\n",
       "      <th>...</th>\n",
       "      <td>...</td>\n",
       "      <td>...</td>\n",
       "      <td>...</td>\n",
       "    </tr>\n",
       "    <tr>\n",
       "      <th>Wolf</th>\n",
       "      <td>8</td>\n",
       "      <td>8</td>\n",
       "      <td>28.32</td>\n",
       "    </tr>\n",
       "    <tr>\n",
       "      <th>Wolf, Promise of the Moonwalker</th>\n",
       "      <td>6</td>\n",
       "      <td>6</td>\n",
       "      <td>26.88</td>\n",
       "    </tr>\n",
       "    <tr>\n",
       "      <th>Worldbreaker</th>\n",
       "      <td>4</td>\n",
       "      <td>4</td>\n",
       "      <td>10.40</td>\n",
       "    </tr>\n",
       "    <tr>\n",
       "      <th>Yearning Crusher</th>\n",
       "      <td>3</td>\n",
       "      <td>3</td>\n",
       "      <td>12.54</td>\n",
       "    </tr>\n",
       "    <tr>\n",
       "      <th>Yearning Mageblade</th>\n",
       "      <td>5</td>\n",
       "      <td>5</td>\n",
       "      <td>19.10</td>\n",
       "    </tr>\n",
       "  </tbody>\n",
       "</table>\n",
       "<p>179 rows × 3 columns</p>\n",
       "</div>"
      ],
      "text/plain": [
       "                                 Purchase Count  Item Price  \\\n",
       "Abyssal Shard                                 5           5   \n",
       "Aetherius, Boon of the Blessed                5           5   \n",
       "Agatha                                        6           6   \n",
       "Alpha                                         3           3   \n",
       "Alpha, Oath of Zeal                           3           3   \n",
       "...                                         ...         ...   \n",
       "Wolf                                          8           8   \n",
       "Wolf, Promise of the Moonwalker               6           6   \n",
       "Worldbreaker                                  4           4   \n",
       "Yearning Crusher                              3           3   \n",
       "Yearning Mageblade                            5           5   \n",
       "\n",
       "                                 Total Purchase Value  \n",
       "Abyssal Shard                                   13.35  \n",
       "Aetherius, Boon of the Blessed                  16.95  \n",
       "Agatha                                          18.48  \n",
       "Alpha                                            6.21  \n",
       "Alpha, Oath of Zeal                             12.15  \n",
       "...                                               ...  \n",
       "Wolf                                            28.32  \n",
       "Wolf, Promise of the Moonwalker                 26.88  \n",
       "Worldbreaker                                    10.40  \n",
       "Yearning Crusher                                12.54  \n",
       "Yearning Mageblade                              19.10  \n",
       "\n",
       "[179 rows x 3 columns]"
      ]
     },
     "execution_count": 633,
     "metadata": {},
     "output_type": "execute_result"
    }
   ],
   "source": [
    "# Most Popular Items\n",
    "\n",
    "# purchase count\n",
    "p_count_items = pd_raw_df[\"Item Name\"].value_counts()\n",
    "p_count_items\n",
    "\n",
    "# item price\n",
    "ip = pd_raw_df.groupby([\"Item Name\"])\n",
    "item_price = ip[\"Price\"].count()\n",
    "item_price\n",
    "\n",
    "# total purchase value\n",
    "item_group_tpv = pd_raw_df.groupby([\"Item Name\"])\n",
    "item_tpv = item_group_tpv[\"Price\"].sum()\n",
    "item_tpv\n",
    "\n",
    "most_popular_items_df = pd.DataFrame({\"Purchase Count\": p_count_items, \"Item Price\": item_price, \"Total Purchase Value\": item_tpv})\n",
    "most_popular_items_df"
   ]
  }
 ],
 "metadata": {
  "interpreter": {
   "hash": "efc213f78c2332ade3cb52c89bda8c080bc1ae1c359626bac6e5e7c902af6ee9"
  },
  "kernelspec": {
   "display_name": "Python 3.7.13 ('bootcamp')",
   "language": "python",
   "name": "python3"
  },
  "language_info": {
   "codemirror_mode": {
    "name": "ipython",
    "version": 3
   },
   "file_extension": ".py",
   "mimetype": "text/x-python",
   "name": "python",
   "nbconvert_exporter": "python",
   "pygments_lexer": "ipython3",
   "version": "3.7.13"
  },
  "orig_nbformat": 4
 },
 "nbformat": 4,
 "nbformat_minor": 2
}
